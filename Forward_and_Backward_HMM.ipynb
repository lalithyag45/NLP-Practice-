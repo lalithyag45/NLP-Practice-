{
  "nbformat": 4,
  "nbformat_minor": 0,
  "metadata": {
    "colab": {
      "provenance": []
    },
    "kernelspec": {
      "name": "python3",
      "display_name": "Python 3"
    },
    "language_info": {
      "name": "python"
    }
  },
  "cells": [
    {
      "cell_type": "code",
      "execution_count": null,
      "metadata": {
        "colab": {
          "base_uri": "https://localhost:8080/"
        },
        "id": "hnK6Jl3tgi29",
        "outputId": "b679753a-4217-4c95-93f4-3f1990d6db90"
      },
      "outputs": [
        {
          "output_type": "stream",
          "name": "stdout",
          "text": [
            "Enter sequence: aab\n",
            "Probability is: 0.22080000000000002\n",
            "Forward algorithm:\n",
            "[1, 0, 0.48, 0.32000000000000006, 0.2304, 0.24960000000000004, 0.027648000000000002, 0.19315200000000002]\n"
          ]
        }
      ],
      "source": [
        "#forward algorithm\n",
        "dict1={'s0s0':0.6,'s0s1':0.4,'s1s0':0,'s1s1':1}\n",
        "dict2={'s0a':0.8,'s0b':0.2,'s1a':0.3,'s1b':0.7}\n",
        "a1=1\n",
        "a2=0\n",
        "anslst=[]\n",
        "inp=input(\"Enter sequence: \")\n",
        "for i in range(len(inp)):\n",
        "    anslst.append(a1)\n",
        "    anslst.append(a2)\n",
        "    t1='s0'+inp[i]\n",
        "    t2='s1'+inp[i]\n",
        "    alpha1=(a1*dict1['s0s0']*dict2[t1])\n",
        "    l=a1*dict1['s0s1']*dict2[t1]\n",
        "    m=a2*dict1['s1s1']*dict2[t2]\n",
        "    alpha2=(l+m)\n",
        "    a1=alpha1\n",
        "    a2=alpha2\n",
        "    \n",
        "anslst.append(a1)\n",
        "anslst.append(a2)   \n",
        "print(f\"Probability is: {alpha1+alpha2}\")\n",
        "print(\"Forward algorithm:\")\n",
        "print(anslst)"
      ]
    },
    {
      "cell_type": "code",
      "source": [
        "#backward algorithm\n",
        "dict1={'s0s0':0.6,'s0s1':0.4,'s1s0':0,'s1s1':1}\n",
        "dict2={'s0a':0.8,'s0b':0.2,'s1a':0.3,'s1b':0.7}\n",
        "a1=1\n",
        "a2=1\n",
        "anslst=[]\n",
        "inp=input(\"Enter sequence: \")\n",
        "for i in reversed(range(len(inp))):\n",
        "    anslst.append(a1)\n",
        "    anslst.append(a2)\n",
        "    t1='s0'+inp[i]\n",
        "    t2='s1'+inp[i]\n",
        "    l=(a1*dict1['s0s0']*dict2[t1])\n",
        "    m=(a2*dict1['s0s1']*dict2[t1])\n",
        "    alpha1=(l+m)\n",
        "    alpha2=a2*dict1['s1s1']*dict2[t2]\n",
        "    a1=alpha1\n",
        "    a2=alpha2\n",
        "    \n",
        "anslst.append(a1)\n",
        "anslst.append(a2)   \n",
        "print(f\"Probability is: {alpha1}\")\n",
        "print(\"Backward algorithm:\")\n",
        "print(anslst)\n",
        "\n"
      ],
      "metadata": {
        "colab": {
          "base_uri": "https://localhost:8080/"
        },
        "id": "LEwbbX2kg48o",
        "outputId": "23641baf-422f-414e-db99-175ed3b6a401"
      },
      "execution_count": null,
      "outputs": [
        {
          "output_type": "stream",
          "name": "stdout",
          "text": [
            "Enter sequence: aab\n",
            "Probability is: 0.2208\n",
            "Backward algorithm:\n",
            "[1, 1, 0.2, 0.7, 0.31999999999999995, 0.21, 0.2208, 0.063]\n"
          ]
        }
      ]
    },
    {
      "cell_type": "markdown",
      "source": [
        "**Observation:** *Forward and backword algorithm gave the same result*"
      ],
      "metadata": {
        "id": "6LFZeTHZPED6"
      }
    },
    {
      "cell_type": "code",
      "source": [],
      "metadata": {
        "id": "zqf_4_fCg71h"
      },
      "execution_count": null,
      "outputs": []
    }
  ]
}