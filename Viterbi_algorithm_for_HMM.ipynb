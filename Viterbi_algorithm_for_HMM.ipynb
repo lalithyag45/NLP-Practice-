{
  "nbformat": 4,
  "nbformat_minor": 0,
  "metadata": {
    "colab": {
      "provenance": []
    },
    "kernelspec": {
      "name": "python3",
      "display_name": "Python 3"
    },
    "language_info": {
      "name": "python"
    }
  },
  "cells": [
    {
      "cell_type": "code",
      "execution_count": null,
      "metadata": {
        "colab": {
          "base_uri": "https://localhost:8080/"
        },
        "id": "nqHKez5Zmb3P",
        "outputId": "cd5ceed3-ab22-45b4-f072-e92cb08952a3"
      },
      "outputs": [
        {
          "output_type": "stream",
          "name": "stdout",
          "text": [
            "Enter sequence: abc\n",
            "Viterbi algorithm:\n",
            "Delta values: [1, 0, 0.21, 0.09, 0.0315, 0.0315, 0.01323, 0.00567]\n",
            "state values: ['CP', 'CP', 'IP', 'IP', 'CP', 'CP']\n",
            "xcap: ['CP', 'IP', 'CP', 'CP']\n",
            "Probability of selected state: 0.01323\n"
          ]
        }
      ],
      "source": [
        "dict1={'s0s0':0.7,'s0s1':0.3,'s1s0':0.5,'s1s1':0.5}\n",
        "dict2={'s0a':0.3,'s0b':0.1,'s0c':0.6,'s1a':0.2,'s1b':0.7,'s1c':0.1}\n",
        "a1=1\n",
        "a2=0\n",
        "anslst=[]\n",
        "anslst1=[]\n",
        "s0lst=[]\n",
        "s1lst=[]\n",
        "xcap=[]\n",
        "inp=input(\"Enter sequence: \")\n",
        "for i in range(len(inp)):\n",
        "    anslst.append(a1)\n",
        "    anslst.append(a2)\n",
        "    t1='s0'+inp[i]\n",
        "    t2='s1'+inp[i]\n",
        "    d1=a1*dict1['s0s0']*dict2[t1]\n",
        "    d2=a2*dict1['s1s0']*dict2[t2]\n",
        "    delta1=max(d1,d2)\n",
        "    if(d1>d2):\n",
        "        anslst1.append(\"CP\")\n",
        "        s0lst.append(\"CP\")\n",
        "    else:\n",
        "        anslst1.append(\"IP\")\n",
        "        s0lst.append(\"IP\")\n",
        "    d3=a1*dict1['s0s1']*dict2[t1]\n",
        "    d4=a2*dict1['s1s1']*dict2[t2]\n",
        "    delta2=max(d3,d4)\n",
        "    if(d3>d4):\n",
        "        anslst1.append(\"CP\")\n",
        "        s1lst.append(\"CP\")\n",
        "    else:\n",
        "        anslst1.append(\"IP\")\n",
        "        s1lst.append(\"IP\")\n",
        "    a1=delta1\n",
        "    a2=delta2\n",
        "    \n",
        "anslst.append(a1)\n",
        "anslst.append(a2)   \n",
        "#print(f\"Probability is: {alpha1+alpha2}\")\n",
        "print(\"Viterbi algorithm:\")\n",
        "print(f\"Delta values: {anslst}\")\n",
        "\n",
        "#calculation of psy(storebacktrace)\n",
        "print(f\"state values: {anslst1}\")\n",
        "\n",
        "#Termination(x cap)\n",
        "\n",
        "xcap.append(anslst1[-1])\n",
        "for i in range(len(inp)):\n",
        "    if(xcap[i]==\"CP\"):\n",
        "        xcap.append(s0lst[len(inp)-i-1])\n",
        "    else:\n",
        "        xcap.append(s1lst[len(inp)-i-1])\n",
        "\n",
        "print(f\"xcap: {xcap[::-1]}\")\n",
        "#probablity\n",
        "print(f\"Probability of selected state: {max(delta1,delta2)}\")\n"
      ]
    },
    {
      "cell_type": "code",
      "source": [],
      "metadata": {
        "id": "2Z_L4iiAmgZ0"
      },
      "execution_count": null,
      "outputs": []
    }
  ]
}