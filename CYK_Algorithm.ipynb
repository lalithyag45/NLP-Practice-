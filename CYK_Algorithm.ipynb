{
  "nbformat": 4,
  "nbformat_minor": 0,
  "metadata": {
    "colab": {
      "provenance": []
    },
    "kernelspec": {
      "name": "python3",
      "display_name": "Python 3"
    },
    "language_info": {
      "name": "python"
    }
  },
  "cells": [
    {
      "cell_type": "code",
      "execution_count": null,
      "metadata": {
        "colab": {
          "base_uri": "https://localhost:8080/"
        },
        "id": "N5TgVqULii3r",
        "outputId": "88075181-10c9-4331-a7da-725f82fe142f"
      },
      "outputs": [
        {
          "output_type": "stream",
          "name": "stdout",
          "text": [
            "[['S', 0.0015875999999999998]]\n"
          ]
        }
      ],
      "source": [
        "def check(a,b):\n",
        "  for i in range(a+1,b):\n",
        "    if len(mat[a][i])==0:\n",
        "      check(a,i)\n",
        "    if(len(mat[i][b]))==0:\n",
        "      check(i,b)\n",
        "    merge(a,i,b)\n",
        "  d=dict()\n",
        "  l=[]\n",
        "  for i in mat[a][b]:\n",
        "    d[i[0]]=0\n",
        "  for i in mat[a][b]:\n",
        "    d[i[0]]+=i[1]\n",
        "  for i in d.keys():\n",
        "    l.append([i,d[i]])\n",
        "  mat[a][b]=l\n",
        "def merge(a,i,b):\n",
        "  strtocheck=[]\n",
        "  for k in mat[a][i]:\n",
        "    for j in mat[i][b]:\n",
        "      strtocheck.append([k[0]+j[0],k[1]*j[1]])\n",
        "  count=0\n",
        "  for str in strtocheck:\n",
        "    for l in R:\n",
        "      if(str[0]==l[1]):\n",
        "        mat[a][b].append([l[0],str[1]*l[2]])\n",
        "R = [\n",
        "    [\"S\",\"NPVP\",1],\n",
        "    [\"PP\",\"PNP\",1],\n",
        "    [\"VP\",\"VNP\",0.7],\n",
        "    [\"VP\",\"VPPP\",0.3],\n",
        "    [\"P\",\"with\",1],\n",
        "    [\"V\",\"saw\",1],\n",
        "    [\"NP\",\"NPPP\",0.4],\n",
        "    [\"NP\",\"astronomers\",0.1],\n",
        "    [\"NP\",\"ears\",0.18],\n",
        "    [\"NP\",\"saw\",0.04],\n",
        "    [\"NP\",\"stars\",0.18],\n",
        "    [\"NP\",\"telescope\",0.1],\n",
        "]\n",
        "s=\"astronomers saw stars with ears\"\n",
        "# for  i in R.keys():\n",
        "#   print(R[i])\n",
        "l=s.split()\n",
        "mat=[[[] for j in range(len(l)+1)] for i in range(len(l)+1)]\n",
        "mat[0][1]=[[\"NP\",0.1]]\n",
        "mat[1][2]=[[\"NP\",0.04],[\"V\",1]]\n",
        "mat[2][3]=[[\"NP\",0.18]]\n",
        "mat[3][4]=[[\"P\",1]]\n",
        "mat[4][5]=[[\"NP\",0.18]]\n",
        "check(0,len(l))\n",
        "print(mat[0][len(l)])"
      ]
    },
    {
      "cell_type": "code",
      "source": [],
      "metadata": {
        "id": "77d0gU88i_8f"
      },
      "execution_count": null,
      "outputs": []
    }
  ]
}