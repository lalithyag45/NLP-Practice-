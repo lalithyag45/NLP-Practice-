{
  "nbformat": 4,
  "nbformat_minor": 0,
  "metadata": {
    "colab": {
      "provenance": [],
      "toc_visible": true
    },
    "kernelspec": {
      "name": "python3",
      "display_name": "Python 3"
    },
    "language_info": {
      "name": "python"
    }
  },
  "cells": [
    {
      "cell_type": "markdown",
      "source": [
        "**T_Test**"
      ],
      "metadata": {
        "id": "vv3R0_aTm0hJ"
      }
    },
    {
      "cell_type": "code",
      "source": [
        "import math\n",
        "dict1={'SASTRA':150,'UNIVERSITY':200,'THANJAVUR':700,'INDIA':900,'SASTRA UNIVERSITY':175,'THANJAVUR INDIA':250,'UNIVERSITY THANJAVUR':4}\n",
        "word=input(\"Enter the Bigram: \").upper()\n",
        "word_list=word.split(' ') #length of wordlist will be 2 since word is a bi-gram\n",
        "n=100000      #total no of words\n",
        "try:\n",
        "  x_bar=dict1[word]/n    \n",
        "  mu=(dict1[word_list[0]]*dict1[word_list[1]])/n**2\n",
        "  t_value=(x_bar-mu)/math.sqrt(x_bar/n)\n",
        "  print(f\"T-Test value: {t_value}\")\n",
        "  if t_value<2.576: #for confidence value of 0.05\n",
        "    print(\"Accept Null Hypothesis\\n\")\n",
        "    print(\"The words do not form a collocation\")\n",
        "  else:\n",
        "    print(\"Reject null hypothesis\")\n",
        "    print(f'The words {word_list[0]} {word_list[1]} forms a collocation')\n",
        "except Exception:\n",
        "  if len(word_list)!=2:\n",
        "    print(\"Entered word is not a Bigram\")\n",
        "  else:\n",
        "    print(\"Please enter a correct Bigram\")\n",
        "\n"
      ],
      "metadata": {
        "id": "baDynNUxmxng"
      },
      "execution_count": null,
      "outputs": []
    },
    {
      "cell_type": "markdown",
      "source": [
        "**CHI_SQUARE TEST**\n",
        "\n",
        "\n"
      ],
      "metadata": {
        "id": "QbT9pQvDmsVt"
      }
    },
    {
      "cell_type": "code",
      "source": [
        "import numpy as np\n",
        "obs_arr=np.array([[8,4667],[15820,14287181]])\n",
        "print(\"Observed Array: \")\n",
        "print(obs_arr)\n",
        "new_count=obs_arr[0,0]+obs_arr[1,0]\n",
        "notnew_count=obs_arr[0,1]+obs_arr[1,1]\n",
        "company_count=obs_arr[0,0]+obs_arr[0,1]\n",
        "notcompany_count=obs_arr[1,0]+obs_arr[1,1]\n",
        "N=obs_arr[0,0]+obs_arr[0,1]+obs_arr[1,0]+obs_arr[1,1]\n",
        "print('Total count: ',N)#here N is total num of words\n",
        "exp11=(new_count)/N*(company_count)\n",
        "exp12=(notnew_count)/N*(company_count)\n",
        "exp21=(new_count)/N*(notcompany_count)\n",
        "exp22=(notnew_count)/N*(notcompany_count)\n",
        "exp_arr=np.array([[exp11,exp12],[exp21,exp22]])\n",
        "chi_square_arr=(obs_arr-exp_arr)**2/exp_arr\n",
        "chi_square=np.sum(chi_square_arr)\n",
        "print(\"Expected Array:\")\n",
        "print(exp_arr)\n",
        "print(\"Chi-Test Array:\")\n",
        "print(chi_square_arr)\n",
        "print(f'Chi-Test value: {chi_square}')\n",
        "if chi_square<6.314:\n",
        "  print('Accept null hypothesis')\n",
        "  print('The words new companies do not form a collocation')\n",
        "else:\n",
        "  print('Reject null hypothesis')\n",
        "  print('The words new companies  form a collocation')\n"
      ],
      "metadata": {
        "id": "e-5IBZcHmolk",
        "outputId": "01b2d1c6-4688-4ac5-ca4c-20763474365f",
        "colab": {
          "base_uri": "https://localhost:8080/"
        }
      },
      "execution_count": null,
      "outputs": [
        {
          "output_type": "stream",
          "name": "stdout",
          "text": [
            "Observed Array: \n",
            "[[       8     4667]\n",
            " [   15820 14287181]]\n",
            "Total count:  14307676\n",
            "Expected Array:\n",
            "[[5.17176235e+00 4.66982824e+03]\n",
            " [1.58228282e+04 1.42871782e+07]]\n",
            "Chi-Test Array:\n",
            "[[1.54665425e+00 1.71289560e-03]\n",
            " [5.05530876e-04 5.59867605e-07]]\n",
            "Chi-Test value: 1.5488732388236603\n",
            "Accept null hypothesis\n",
            "The words new companies do not form a collocation\n"
          ]
        }
      ]
    }
  ]
}